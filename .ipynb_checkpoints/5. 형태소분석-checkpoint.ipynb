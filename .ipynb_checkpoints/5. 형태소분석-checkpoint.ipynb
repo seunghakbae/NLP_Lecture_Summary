{
 "cells": [
  {
   "cell_type": "markdown",
   "metadata": {},
   "source": [
    "# 1. 형태소분석"
   ]
  },
  {
   "cell_type": "code",
   "execution_count": 1,
   "metadata": {},
   "outputs": [
    {
     "name": "stderr",
     "output_type": "stream",
     "text": [
      "C:\\ProgrammingProgram\\Anaconda3\\lib\\site-packages\\konlpy\\tag\\_okt.py:16: UserWarning: \"Twitter\" has changed to \"Okt\" since KoNLPy v0.4.5.\n",
      "  warn('\"Twitter\" has changed to \"Okt\" since KoNLPy v0.4.5.')\n"
     ]
    },
    {
     "data": {
      "text/plain": [
       "[('나', 'Noun'),\n",
       " ('는', 'Josa'),\n",
       " ('국민', 'Noun'),\n",
       " ('대학교', 'Noun'),\n",
       " ('의', 'Josa'),\n",
       " ('축제', 'Noun'),\n",
       " ('에', 'Josa'),\n",
       " ('놀러', 'Verb'),\n",
       " ('가고', 'Verb'),\n",
       " ('싶습니다', 'Verb'),\n",
       " ('.', 'Punctuation')]"
      ]
     },
     "execution_count": 1,
     "metadata": {},
     "output_type": "execute_result"
    }
   ],
   "source": [
    "import codecs\n",
    "from konlpy.tag import Twitter\n",
    "\n",
    "twitter = Twitter()\n",
    "line = \"나는 국민대학교의 축제에 놀러 가고 싶습니다.\"\n",
    "malist = twitter.pos(line)\n",
    "malist"
   ]
  },
  {
   "cell_type": "code",
   "execution_count": 2,
   "metadata": {},
   "outputs": [
    {
     "data": {
      "text/plain": [
       "[('나', 'NP'),\n",
       " ('는', 'JX'),\n",
       " ('국민대학교', 'NNP'),\n",
       " ('의', 'JKG'),\n",
       " ('축제', 'NNG'),\n",
       " ('에', 'JKB'),\n",
       " ('놀', 'VV'),\n",
       " ('러', 'EC'),\n",
       " ('가', 'VV'),\n",
       " ('고', 'EC'),\n",
       " ('싶', 'VX'),\n",
       " ('습니다', 'EF'),\n",
       " ('.', 'SF')]"
      ]
     },
     "execution_count": 2,
     "metadata": {},
     "output_type": "execute_result"
    }
   ],
   "source": [
    "import codecs\n",
    "from konlpy.tag import Komoran\n",
    "\n",
    "tagger = Komoran()\n",
    "line = \"나는 국민대학교의 축제에 놀러 가고 싶습니다.\"\n",
    "malist = tagger.pos(line)\n",
    "malist"
   ]
  },
  {
   "cell_type": "code",
   "execution_count": 3,
   "metadata": {},
   "outputs": [
    {
     "name": "stderr",
     "output_type": "stream",
     "text": [
      "C:\\ProgrammingProgram\\Anaconda3\\lib\\site-packages\\konlpy\\tag\\_okt.py:16: UserWarning: \"Twitter\" has changed to \"Okt\" since KoNLPy v0.4.5.\n",
      "  warn('\"Twitter\" has changed to \"Okt\" since KoNLPy v0.4.5.')\n"
     ]
    },
    {
     "data": {
      "text/plain": [
       "[('코로나', 'Noun'),\n",
       " ('바이러스', 'Noun'),\n",
       " ('때문', 'Noun'),\n",
       " ('에', 'Josa'),\n",
       " ('정말', 'Noun'),\n",
       " ('힘들다', 'Adjective'),\n",
       " ('.', 'Punctuation')]"
      ]
     },
     "execution_count": 3,
     "metadata": {},
     "output_type": "execute_result"
    }
   ],
   "source": [
    "import codecs\n",
    "from konlpy.tag import Twitter\n",
    "\n",
    "twitter = Twitter()\n",
    "line = \"코로나 바이러스때문에 정말 힘들다.\"\n",
    "malist = twitter.pos(line)\n",
    "malist"
   ]
  },
  {
   "cell_type": "code",
   "execution_count": 14,
   "metadata": {},
   "outputs": [],
   "source": [
    "from konlpy.tag import Komoran\n",
    "\n",
    "tagger = Komoran() # 형태소 분석기\n",
    "from urllib.parse import quote_plus\n",
    "from bs4 import BeautifulSoup\n",
    "import requests\n",
    "import lxml.html\n",
    "import codecs\n",
    "\n",
    "# 투캅스 시나리오 읽어오기\n",
    "articles = []\n",
    "with open('투캅스.txt', 'r', encoding='cp949') as f:\n",
    "    text = f.readlines()"
   ]
  },
  {
   "cell_type": "code",
   "execution_count": 24,
   "metadata": {},
   "outputs": [],
   "source": [
    "text = [line.replace(\"\\n\", \"\") for line in text if len(line.replace(\"\\n\", \"\")) >= 1]"
   ]
  },
  {
   "cell_type": "code",
   "execution_count": 26,
   "metadata": {},
   "outputs": [],
   "source": [
    "# 텍스트를 처리하기\n",
    "twitter = Twitter()\n",
    "results = []\n",
    "words_all = []\n",
    "\n",
    "for line in text:\n",
    "    # 형태소 분석하기\n",
    "    malist = twitter.pos(line, norm=True, stem=True) # 정규화, 어간추출\n",
    "    \n",
    "    r = []\n",
    "    \n",
    "    for word in malist:\n",
    "        # 명사/동사/부사만 걸러내기\n",
    "        if word[1] in ['Noun', 'Verb', 'Adjective']:\n",
    "            r.append(word[0])\n",
    "            words_all.append(word[0])\n",
    "        r1 = (\" \".join(r)).strip()\n",
    "        results.append(r1)"
   ]
  },
  {
   "cell_type": "code",
   "execution_count": 34,
   "metadata": {},
   "outputs": [
    {
     "data": {
      "text/plain": [
       "(2386, 11890)"
      ]
     },
     "execution_count": 34,
     "metadata": {},
     "output_type": "execute_result"
    }
   ],
   "source": [
    "len(set(words_all)), len(words_all)"
   ]
  }
 ],
 "metadata": {
  "kernelspec": {
   "display_name": "Python 3",
   "language": "python",
   "name": "python3"
  },
  "language_info": {
   "codemirror_mode": {
    "name": "ipython",
    "version": 3
   },
   "file_extension": ".py",
   "mimetype": "text/x-python",
   "name": "python",
   "nbconvert_exporter": "python",
   "pygments_lexer": "ipython3",
   "version": "3.7.6"
  }
 },
 "nbformat": 4,
 "nbformat_minor": 4
}
